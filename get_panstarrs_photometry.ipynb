{
 "cells": [
  {
   "cell_type": "markdown",
   "metadata": {},
   "source": [
    "# Get the PanSTARRS DR1 photometry for the CGM$^2$ Galaxy Catalog"
   ]
  },
  {
   "cell_type": "code",
   "execution_count": 42,
   "metadata": {},
   "outputs": [],
   "source": [
    "from astroquery.vizier import Vizier\n",
    "import astropy.units as u\n",
    "import astropy.coordinates as coord\n",
    "from astropy.table import Table, vstack"
   ]
  },
  {
   "cell_type": "code",
   "execution_count": 5,
   "metadata": {},
   "outputs": [
    {
     "name": "stdout",
     "output_type": "stream",
     "text": [
      "      objID           RAJ2000       DEJ2000    ...  e_zmag   ymag   e_ymag\n",
      "                        deg           deg      ...   mag     mag     mag  \n",
      "------------------ ------------- ------------- ... ------- ------- -------\n",
      "189460123532453147  12.353199480  67.885283260 ...  0.0104 16.9197  0.0101\n",
      "189470123537790102  12.353740850  67.891079330 ...  0.0050 16.2947  0.0062\n",
      "189470123534421848  12.353373340  67.892536640 ...  0.0156 18.3633  0.0304\n",
      "189460123528446259  12.352828940  67.887895580 ...  0.0232 17.9945  0.0176\n",
      "189460123423483398  12.342315510  67.885502260 ...  0.0031 16.6284  0.0054\n"
     ]
    }
   ],
   "source": [
    "def panstarrs_query(ra_deg, dec_deg, rad_deg, maxmag=24,\n",
    "                    maxsources=10000):\n",
    "    \"\"\"\n",
    "    Query PanSTARRS @ VizieR using astroquery.vizier\n",
    "    \n",
    "    (from https://michaelmommert.wordpress.com/2017/02/13/\n",
    "    accessing-the-gaia-and-pan-starrs-catalogs-using-python/)\n",
    "    \n",
    "    :param ra_deg: RA in degrees\n",
    "    :param dec_deg: Declination in degrees\n",
    "    :param rad_deg: field radius in degrees\n",
    "    :param maxmag: upper limit G magnitude (optional)\n",
    "    :param maxsources: maximum number of sources\n",
    "    :return: astropy.table object\n",
    "    \"\"\"\n",
    "    vquery = Vizier(columns=['objID', 'RAJ2000', 'DEJ2000',\n",
    "                             'e_RAJ2000', 'e_DEJ2000',\n",
    "                             'gmag', 'e_gmag',\n",
    "                             'rmag', 'e_rmag',\n",
    "                             'imag', 'e_imag',\n",
    "                             'zmag', 'e_zmag',\n",
    "                             'ymag', 'e_ymag'],\n",
    "                    column_filters={\"gmag\":\n",
    "                                    (\"<%f\" % maxmag)},\n",
    "                    row_limit=maxsources)\n",
    "\n",
    "    field = coord.SkyCoord(ra=ra_deg, dec=dec_deg,\n",
    "                           unit=(u.deg, u.deg),\n",
    "                           frame='icrs')\n",
    "    return vquery.query_region(field,\n",
    "                               width=(\"%fd\" % rad_deg),\n",
    "                               catalog=\"II/349/ps1\")[0]\n",
    "\n",
    "\n",
    "# Example query\n",
    "print(panstarrs_query(12.345, 67.89, 0.01))"
   ]
  },
  {
   "cell_type": "markdown",
   "metadata": {},
   "source": [
    "### Read in CGM$^2$ ra decs\n",
    "\n",
    "RA is in hourangle. Convert to degrees like a sane person"
   ]
  },
  {
   "cell_type": "code",
   "execution_count": 21,
   "metadata": {},
   "outputs": [
    {
     "data": {
      "text/html": [
       "<i>Table length=3044</i>\n",
       "<table id=\"table4709743976\" class=\"table-striped table-bordered table-condensed\">\n",
       "<thead><tr><th>ID</th><th>RA</th><th>DEC</th></tr></thead>\n",
       "<thead><tr><th>int64</th><th>float64</th><th>float64</th></tr></thead>\n",
       "<tr><td>146</td><td>9.591402</td><td>2.08156</td></tr>\n",
       "<tr><td>159</td><td>9.591022</td><td>2.06473</td></tr>\n",
       "<tr><td>293</td><td>9.59142</td><td>2.10502</td></tr>\n",
       "<tr><td>343</td><td>9.590647</td><td>2.04932</td></tr>\n",
       "<tr><td>393</td><td>9.591168</td><td>2.10232</td></tr>\n",
       "<tr><td>432</td><td>9.59091</td><td>2.09427</td></tr>\n",
       "<tr><td>456</td><td>9.590219</td><td>2.04628</td></tr>\n",
       "<tr><td>480</td><td>9.5904</td><td>2.07028</td></tr>\n",
       "<tr><td>497</td><td>9.590591</td><td>2.09556</td></tr>\n",
       "<tr><td>528</td><td>9.590082</td><td>2.06208</td></tr>\n",
       "<tr><td>...</td><td>...</td><td>...</td></tr>\n",
       "<tr><td>1262</td><td>10.99795</td><td>14.73664</td></tr>\n",
       "<tr><td>1302</td><td>10.99618</td><td>14.72374</td></tr>\n",
       "<tr><td>1322</td><td>10.99794</td><td>14.73782</td></tr>\n",
       "<tr><td>1369</td><td>10.99691</td><td>14.73359</td></tr>\n",
       "<tr><td>1375</td><td>10.99312</td><td>14.73507</td></tr>\n",
       "<tr><td>1424</td><td>10.99487</td><td>14.73169</td></tr>\n",
       "<tr><td>1486</td><td>10.99663</td><td>14.72989</td></tr>\n",
       "<tr><td>1496</td><td>10.99589</td><td>14.7277</td></tr>\n",
       "<tr><td>1501</td><td>10.99769</td><td>14.72536</td></tr>\n",
       "<tr><td>1503</td><td>10.99334</td><td>14.72659</td></tr>\n",
       "</table>"
      ],
      "text/plain": [
       "<Table length=3044>\n",
       "  ID     RA      DEC   \n",
       "int64 float64  float64 \n",
       "----- -------- --------\n",
       "  146 9.591402  2.08156\n",
       "  159 9.591022  2.06473\n",
       "  293  9.59142  2.10502\n",
       "  343 9.590647  2.04932\n",
       "  393 9.591168  2.10232\n",
       "  432  9.59091  2.09427\n",
       "  456 9.590219  2.04628\n",
       "  480   9.5904  2.07028\n",
       "  497 9.590591  2.09556\n",
       "  528 9.590082  2.06208\n",
       "  ...      ...      ...\n",
       " 1262 10.99795 14.73664\n",
       " 1302 10.99618 14.72374\n",
       " 1322 10.99794 14.73782\n",
       " 1369 10.99691 14.73359\n",
       " 1375 10.99312 14.73507\n",
       " 1424 10.99487 14.73169\n",
       " 1486 10.99663 14.72989\n",
       " 1496 10.99589  14.7277\n",
       " 1501 10.99769 14.72536\n",
       " 1503 10.99334 14.72659"
      ]
     },
     "execution_count": 21,
     "metadata": {},
     "output_type": "execute_result"
    }
   ],
   "source": [
    "cgmsq_radec_table = Table.read('cgmsquared_gal_radec.txt', format='ascii')\n",
    "cgmsq_radec_table"
   ]
  },
  {
   "cell_type": "code",
   "execution_count": 22,
   "metadata": {},
   "outputs": [],
   "source": [
    "cgmsq_radec_table['RA'] = (cgmsq_radec_table['RA']*u.hourangle).to(u.degree)\n",
    "cgmsq_radec_table['DEC'] = cgmsq_radec_table['DEC']*u.degree\n",
    "ra = cgmsq_radec_table['RA']\n",
    "dec = cgmsq_radec_table['DEC']"
   ]
  },
  {
   "cell_type": "code",
   "execution_count": 23,
   "metadata": {},
   "outputs": [
    {
     "data": {
      "text/html": [
       "<i>Table length=3044</i>\n",
       "<table id=\"table4709743976\" class=\"table-striped table-bordered table-condensed\">\n",
       "<thead><tr><th>ID</th><th>RA</th><th>DEC</th></tr></thead>\n",
       "<thead><tr><th></th><th>deg</th><th>deg</th></tr></thead>\n",
       "<thead><tr><th>int64</th><th>float64</th><th>float64</th></tr></thead>\n",
       "<tr><td>146</td><td>143.87103</td><td>2.08156</td></tr>\n",
       "<tr><td>159</td><td>143.86533</td><td>2.06473</td></tr>\n",
       "<tr><td>293</td><td>143.87129999999996</td><td>2.10502</td></tr>\n",
       "<tr><td>343</td><td>143.859705</td><td>2.04932</td></tr>\n",
       "<tr><td>393</td><td>143.86751999999998</td><td>2.10232</td></tr>\n",
       "<tr><td>432</td><td>143.86364999999998</td><td>2.09427</td></tr>\n",
       "<tr><td>456</td><td>143.85328499999997</td><td>2.04628</td></tr>\n",
       "<tr><td>480</td><td>143.856</td><td>2.07028</td></tr>\n",
       "<tr><td>497</td><td>143.85886499999998</td><td>2.09556</td></tr>\n",
       "<tr><td>...</td><td>...</td><td>...</td></tr>\n",
       "<tr><td>1262</td><td>164.96924999999996</td><td>14.73664</td></tr>\n",
       "<tr><td>1302</td><td>164.9427</td><td>14.72374</td></tr>\n",
       "<tr><td>1322</td><td>164.96909999999997</td><td>14.73782</td></tr>\n",
       "<tr><td>1369</td><td>164.95364999999998</td><td>14.73359</td></tr>\n",
       "<tr><td>1375</td><td>164.89679999999998</td><td>14.73507</td></tr>\n",
       "<tr><td>1424</td><td>164.92305</td><td>14.73169</td></tr>\n",
       "<tr><td>1486</td><td>164.94944999999998</td><td>14.72989</td></tr>\n",
       "<tr><td>1496</td><td>164.93834999999996</td><td>14.7277</td></tr>\n",
       "<tr><td>1501</td><td>164.96535</td><td>14.72536</td></tr>\n",
       "<tr><td>1503</td><td>164.90009999999998</td><td>14.72659</td></tr>\n",
       "</table>"
      ],
      "text/plain": [
       "<Table length=3044>\n",
       "  ID          RA           DEC   \n",
       "             deg           deg   \n",
       "int64      float64       float64 \n",
       "----- ------------------ --------\n",
       "  146          143.87103  2.08156\n",
       "  159          143.86533  2.06473\n",
       "  293 143.87129999999996  2.10502\n",
       "  343         143.859705  2.04932\n",
       "  393 143.86751999999998  2.10232\n",
       "  432 143.86364999999998  2.09427\n",
       "  456 143.85328499999997  2.04628\n",
       "  480            143.856  2.07028\n",
       "  497 143.85886499999998  2.09556\n",
       "  ...                ...      ...\n",
       " 1262 164.96924999999996 14.73664\n",
       " 1302           164.9427 14.72374\n",
       " 1322 164.96909999999997 14.73782\n",
       " 1369 164.95364999999998 14.73359\n",
       " 1375 164.89679999999998 14.73507\n",
       " 1424          164.92305 14.73169\n",
       " 1486 164.94944999999998 14.72989\n",
       " 1496 164.93834999999996  14.7277\n",
       " 1501          164.96535 14.72536\n",
       " 1503 164.90009999999998 14.72659"
      ]
     },
     "execution_count": 23,
     "metadata": {},
     "output_type": "execute_result"
    }
   ],
   "source": [
    "cgmsq_radec_table"
   ]
  },
  {
   "cell_type": "markdown",
   "metadata": {},
   "source": [
    "## Query a few of the galaxies\n",
    "\n",
    "* We don't have a one-to-one matching. Not unexpected\n",
    "* Are there more than one match at each ra,dec?"
   ]
  },
  {
   "cell_type": "code",
   "execution_count": 29,
   "metadata": {},
   "outputs": [
    {
     "data": {
      "text/html": [
       "<i>Table masked=True length=2</i>\n",
       "<table id=\"table4710692456\" class=\"table-striped table-bordered table-condensed\">\n",
       "<thead><tr><th>_q</th><th>objID</th><th>RAJ2000</th><th>DEJ2000</th><th>e_RAJ2000</th><th>e_DEJ2000</th><th>gmag</th><th>e_gmag</th><th>rmag</th><th>e_rmag</th><th>imag</th><th>e_imag</th><th>zmag</th><th>e_zmag</th><th>ymag</th><th>e_ymag</th></tr></thead>\n",
       "<thead><tr><th></th><th></th><th>deg</th><th>deg</th><th>arcsec</th><th>arcsec</th><th>mag</th><th>mag</th><th>mag</th><th>mag</th><th>mag</th><th>mag</th><th>mag</th><th>mag</th><th>mag</th><th>mag</th></tr></thead>\n",
       "<thead><tr><th>int32</th><th>int64</th><th>float64</th><th>float64</th><th>float64</th><th>float64</th><th>float64</th><th>float32</th><th>float64</th><th>float32</th><th>float64</th><th>float32</th><th>float64</th><th>float32</th><th>float64</th><th>float32</th></tr></thead>\n",
       "<tr><td>1</td><td>110491438706598496</td><td>143.870658980</td><td>2.081683290</td><td>0.0043</td><td>0.0080</td><td>18.3108</td><td>0.0058</td><td>17.9118</td><td>0.0072</td><td>17.7221</td><td>0.0025</td><td>17.6875</td><td>0.0028</td><td>17.6459</td><td>0.0202</td></tr>\n",
       "<tr><td>2</td><td>110471438650128304</td><td>143.865012120</td><td>2.064859860</td><td>0.0094</td><td>0.0049</td><td>18.1937</td><td>0.0034</td><td>17.7480</td><td>0.0045</td><td>17.5897</td><td>0.0080</td><td>17.5213</td><td>0.0040</td><td>17.4816</td><td>0.0100</td></tr>\n",
       "</table>"
      ],
      "text/plain": [
       "<Table masked=True length=2>\n",
       "  _q        objID           RAJ2000       DEJ2000    ...  e_zmag   ymag   e_ymag\n",
       "                              deg           deg      ...   mag     mag     mag  \n",
       "int32       int64           float64       float64    ... float32 float64 float32\n",
       "----- ------------------ ------------- ------------- ... ------- ------- -------\n",
       "    1 110491438706598496 143.870658980   2.081683290 ...  0.0028 17.6459  0.0202\n",
       "    2 110471438650128304 143.865012120   2.064859860 ...  0.0040 17.4816  0.0100"
      ]
     },
     "execution_count": 29,
     "metadata": {},
     "output_type": "execute_result"
    }
   ],
   "source": [
    "panstarrs_query(ra[:5], dec[:5], 0.001)"
   ]
  },
  {
   "cell_type": "markdown",
   "metadata": {},
   "source": [
    "## Slice up the query so it doesnt time out and query the whole cgmsquared catalog"
   ]
  },
  {
   "cell_type": "code",
   "execution_count": 44,
   "metadata": {},
   "outputs": [],
   "source": [
    "radius = 0.001 # degrees ~ 3.6 arcsec\n",
    "panstarrs_query_result = [panstarrs_query(ra[:500], dec[:500], radius),\n",
    "                          panstarrs_query(ra[500:1000], dec[500:1000], radius),\n",
    "                          panstarrs_query(ra[1000:1500], dec[1000:1500], radius),\n",
    "                          panstarrs_query(ra[1000:1500], dec[1000:1500], radius),\n",
    "                          panstarrs_query(ra[1500:2000], dec[1500:2000], radius),\n",
    "                          panstarrs_query(ra[2000:2500], dec[2000:2500], radius),\n",
    "                          panstarrs_query(ra[2500:], dec[2500:], radius)\n",
    "                         ]"
   ]
  },
  {
   "cell_type": "markdown",
   "metadata": {},
   "source": [
    "### Stack the queries into a table"
   ]
  },
  {
   "cell_type": "code",
   "execution_count": 45,
   "metadata": {},
   "outputs": [
    {
     "name": "stderr",
     "output_type": "stream",
     "text": [
      "WARNING: MergeConflictWarning: Cannot merge meta key 'null' types <class 'float'> and <class 'float'>, choosing null=nan [astropy.utils.metadata]\n",
      "WARNING: MergeConflictWarning: Cannot merge meta key 'null' types <class 'float'> and <class 'float'>, choosing null=nan [astropy.utils.metadata]\n",
      "WARNING: MergeConflictWarning: Cannot merge meta key 'null' types <class 'float'> and <class 'float'>, choosing null=nan [astropy.utils.metadata]\n",
      "WARNING: MergeConflictWarning: Cannot merge meta key 'null' types <class 'float'> and <class 'float'>, choosing null=nan [astropy.utils.metadata]\n",
      "WARNING: MergeConflictWarning: Cannot merge meta key 'null' types <class 'float'> and <class 'float'>, choosing null=nan [astropy.utils.metadata]\n",
      "WARNING: MergeConflictWarning: Cannot merge meta key 'null' types <class 'float'> and <class 'float'>, choosing null=nan [astropy.utils.metadata]\n",
      "WARNING: MergeConflictWarning: Cannot merge meta key 'null' types <class 'float'> and <class 'float'>, choosing null=nan [astropy.utils.metadata]\n",
      "WARNING: MergeConflictWarning: Cannot merge meta key 'null' types <class 'float'> and <class 'float'>, choosing null=nan [astropy.utils.metadata]\n",
      "WARNING: MergeConflictWarning: Cannot merge meta key 'null' types <class 'float'> and <class 'float'>, choosing null=nan [astropy.utils.metadata]\n",
      "WARNING: MergeConflictWarning: Cannot merge meta key 'null' types <class 'float'> and <class 'float'>, choosing null=nan [astropy.utils.metadata]\n",
      "WARNING: MergeConflictWarning: Cannot merge meta key 'null' types <class 'float'> and <class 'float'>, choosing null=nan [astropy.utils.metadata]\n",
      "WARNING: MergeConflictWarning: Cannot merge meta key 'null' types <class 'float'> and <class 'float'>, choosing null=nan [astropy.utils.metadata]\n"
     ]
    }
   ],
   "source": [
    "panstarrs_querry_table = vstack(panstarrs_query_result)"
   ]
  },
  {
   "cell_type": "code",
   "execution_count": 46,
   "metadata": {},
   "outputs": [
    {
     "data": {
      "text/html": [
       "<i>Table masked=True length=919</i>\n",
       "<table id=\"table4712199616\" class=\"table-striped table-bordered table-condensed\">\n",
       "<thead><tr><th>_q</th><th>objID</th><th>RAJ2000</th><th>DEJ2000</th><th>e_RAJ2000</th><th>e_DEJ2000</th><th>gmag</th><th>e_gmag</th><th>rmag</th><th>e_rmag</th><th>imag</th><th>e_imag</th><th>zmag</th><th>e_zmag</th><th>ymag</th><th>e_ymag</th></tr></thead>\n",
       "<thead><tr><th></th><th></th><th>deg</th><th>deg</th><th>arcsec</th><th>arcsec</th><th>mag</th><th>mag</th><th>mag</th><th>mag</th><th>mag</th><th>mag</th><th>mag</th><th>mag</th><th>mag</th><th>mag</th></tr></thead>\n",
       "<thead><tr><th>int32</th><th>int64</th><th>float64</th><th>float64</th><th>float64</th><th>float64</th><th>float64</th><th>float32</th><th>float64</th><th>float32</th><th>float64</th><th>float32</th><th>float64</th><th>float32</th><th>float64</th><th>float32</th></tr></thead>\n",
       "<tr><td>1</td><td>110491438706598496</td><td>143.870658980</td><td>2.081683290</td><td>0.0043</td><td>0.0080</td><td>18.3108</td><td>0.0058</td><td>17.9118</td><td>0.0072</td><td>17.7221</td><td>0.0025</td><td>17.6875</td><td>0.0028</td><td>17.6459</td><td>0.0202</td></tr>\n",
       "<tr><td>2</td><td>110471438650128304</td><td>143.865012120</td><td>2.064859860</td><td>0.0094</td><td>0.0049</td><td>18.1937</td><td>0.0034</td><td>17.7480</td><td>0.0045</td><td>17.5897</td><td>0.0080</td><td>17.5213</td><td>0.0040</td><td>17.4816</td><td>0.0100</td></tr>\n",
       "<tr><td>29</td><td>110461438137211322</td><td>143.813725910</td><td>2.050789160</td><td>0.0188</td><td>0.0253</td><td>21.0842</td><td>0.1254</td><td>20.6095</td><td>0.0621</td><td>20.3790</td><td>0.0402</td><td>20.2169</td><td>0.0400</td><td>19.8899</td><td>0.1770</td></tr>\n",
       "<tr><td>30</td><td>110481438158739144</td><td>143.815900110</td><td>2.073902600</td><td>0.0128</td><td>0.0147</td><td>21.6445</td><td>0.0910</td><td>20.2694</td><td>0.0571</td><td>19.7759</td><td>0.0482</td><td>19.4905</td><td>0.0292</td><td>19.0490</td><td>0.1271</td></tr>\n",
       "<tr><td>31</td><td>110531438182686912</td><td>143.818258320</td><td>2.113701090</td><td>0.0084</td><td>0.0059</td><td>19.8143</td><td>0.0083</td><td>18.5967</td><td>0.0057</td><td>17.2301</td><td>0.0045</td><td>16.6325</td><td>0.0027</td><td>16.3242</td><td>0.0016</td></tr>\n",
       "<tr><td>32</td><td>110461438085871455</td><td>143.808371710</td><td>2.050833570</td><td>0.0256</td><td>0.0298</td><td>22.0396</td><td>0.1574</td><td>21.4074</td><td>0.0661</td><td>21.0586</td><td>0.0540</td><td>20.7444</td><td>0.0474</td><td>--</td><td>--</td></tr>\n",
       "<tr><td>33</td><td>110501438107128189</td><td>143.810694090</td><td>2.089812340</td><td>0.1189</td><td>0.1211</td><td>22.0913</td><td>0.1841</td><td>21.4764</td><td>0.0146</td><td>21.2562</td><td>0.0642</td><td>--</td><td>--</td><td>--</td><td>--</td></tr>\n",
       "<tr><td>33</td><td>110501438109818345</td><td>143.810937930</td><td>2.089879720</td><td>0.0690</td><td>0.0795</td><td>21.8527</td><td>0.1881</td><td>21.5313</td><td>0.0111</td><td>21.3107</td><td>0.0832</td><td>--</td><td>--</td><td>--</td><td>--</td></tr>\n",
       "<tr><td>35</td><td>110541438124565107</td><td>143.812445550</td><td>2.120555140</td><td>0.0047</td><td>0.0118</td><td>17.1931</td><td>0.0036</td><td>16.6443</td><td>0.0038</td><td>16.4694</td><td>0.0037</td><td>16.3938</td><td>0.0040</td><td>16.3334</td><td>0.0037</td></tr>\n",
       "<tr><td>...</td><td>...</td><td>...</td><td>...</td><td>...</td><td>...</td><td>...</td><td>...</td><td>...</td><td>...</td><td>...</td><td>...</td><td>...</td><td>...</td><td>...</td><td>...</td></tr>\n",
       "<tr><td>501</td><td>125591649765392984</td><td>164.976487060</td><td>14.660426790</td><td>0.0163</td><td>0.0191</td><td>21.5837</td><td>0.0654</td><td>21.0177</td><td>0.0420</td><td>20.7694</td><td>0.0191</td><td>20.6521</td><td>0.0510</td><td>19.9943</td><td>0.0341</td></tr>\n",
       "<tr><td>507</td><td>125601649620547678</td><td>164.962003930</td><td>14.672663410</td><td>0.0068</td><td>0.0236</td><td>17.7441</td><td>0.0090</td><td>17.1027</td><td>0.0030</td><td>16.8096</td><td>0.0068</td><td>16.6998</td><td>0.0052</td><td>16.5952</td><td>0.0060</td></tr>\n",
       "<tr><td>509</td><td>125601649562979593</td><td>164.956178020</td><td>14.674361940</td><td>0.0277</td><td>0.0425</td><td>21.9529</td><td>0.0759</td><td>21.3023</td><td>0.0462</td><td>21.0903</td><td>0.0357</td><td>20.7214</td><td>0.0902</td><td>--</td><td>--</td></tr>\n",
       "<tr><td>521</td><td>125631649216978800</td><td>164.921671650</td><td>14.698561010</td><td>0.0236</td><td>0.0203</td><td>21.4489</td><td>0.0698</td><td>20.7822</td><td>0.0336</td><td>20.6387</td><td>0.0548</td><td>20.2642</td><td>0.0828</td><td>19.9261</td><td>0.1298</td></tr>\n",
       "<tr><td>523</td><td>125641649211990596</td><td>164.921090270</td><td>14.700050400</td><td>0.0597</td><td>0.0369</td><td>22.2029</td><td>0.1845</td><td>21.8576</td><td>0.0613</td><td>21.4227</td><td>0.0474</td><td>21.2811</td><td>0.1796</td><td>--</td><td>--</td></tr>\n",
       "<tr><td>530</td><td>125651649265169165</td><td>164.926451390</td><td>14.715566880</td><td>0.0108</td><td>0.0102</td><td>19.3450</td><td>0.0240</td><td>18.7403</td><td>0.0132</td><td>18.2700</td><td>0.0168</td><td>18.0892</td><td>0.0207</td><td>17.8203</td><td>0.0444</td></tr>\n",
       "<tr><td>533</td><td>125661649775606656</td><td>164.977521260</td><td>14.721799920</td><td>0.0103</td><td>0.0038</td><td>16.8689</td><td>0.0033</td><td>16.5515</td><td>0.0053</td><td>16.4512</td><td>0.0022</td><td>16.4269</td><td>0.0033</td><td>16.3969</td><td>0.0074</td></tr>\n",
       "<tr><td>537</td><td>125681649695275628</td><td>164.969299610</td><td>14.737753920</td><td>0.0064</td><td>0.0026</td><td>20.4406</td><td>0.0248</td><td>19.2318</td><td>0.0063</td><td>18.5629</td><td>0.0070</td><td>18.2160</td><td>0.0073</td><td>18.0416</td><td>0.0096</td></tr>\n",
       "<tr><td>538</td><td>125681649538490810</td><td>164.953786380</td><td>14.733616480</td><td>0.0794</td><td>0.0794</td><td>22.2338</td><td>0.1908</td><td>22.0380</td><td>0.0684</td><td>21.9022</td><td>0.1713</td><td>21.4623</td><td>0.1858</td><td>--</td><td>--</td></tr>\n",
       "<tr><td>544</td><td>125671649003882392</td><td>164.900319850</td><td>14.726587330</td><td>0.0063</td><td>0.0106</td><td>17.4351</td><td>0.0088</td><td>16.8595</td><td>0.0050</td><td>16.6586</td><td>0.0026</td><td>16.5852</td><td>0.0063</td><td>16.5200</td><td>0.0043</td></tr>\n",
       "</table>"
      ],
      "text/plain": [
       "<Table masked=True length=919>\n",
       "  _q        objID           RAJ2000       DEJ2000    ...  e_zmag   ymag   e_ymag\n",
       "                              deg           deg      ...   mag     mag     mag  \n",
       "int32       int64           float64       float64    ... float32 float64 float32\n",
       "----- ------------------ ------------- ------------- ... ------- ------- -------\n",
       "    1 110491438706598496 143.870658980   2.081683290 ...  0.0028 17.6459  0.0202\n",
       "    2 110471438650128304 143.865012120   2.064859860 ...  0.0040 17.4816  0.0100\n",
       "   29 110461438137211322 143.813725910   2.050789160 ...  0.0400 19.8899  0.1770\n",
       "   30 110481438158739144 143.815900110   2.073902600 ...  0.0292 19.0490  0.1271\n",
       "   31 110531438182686912 143.818258320   2.113701090 ...  0.0027 16.3242  0.0016\n",
       "   32 110461438085871455 143.808371710   2.050833570 ...  0.0474      --      --\n",
       "   33 110501438107128189 143.810694090   2.089812340 ...      --      --      --\n",
       "   33 110501438109818345 143.810937930   2.089879720 ...      --      --      --\n",
       "   35 110541438124565107 143.812445550   2.120555140 ...  0.0040 16.3334  0.0037\n",
       "  ...                ...           ...           ... ...     ...     ...     ...\n",
       "  501 125591649765392984 164.976487060  14.660426790 ...  0.0510 19.9943  0.0341\n",
       "  507 125601649620547678 164.962003930  14.672663410 ...  0.0052 16.5952  0.0060\n",
       "  509 125601649562979593 164.956178020  14.674361940 ...  0.0902      --      --\n",
       "  521 125631649216978800 164.921671650  14.698561010 ...  0.0828 19.9261  0.1298\n",
       "  523 125641649211990596 164.921090270  14.700050400 ...  0.1796      --      --\n",
       "  530 125651649265169165 164.926451390  14.715566880 ...  0.0207 17.8203  0.0444\n",
       "  533 125661649775606656 164.977521260  14.721799920 ...  0.0033 16.3969  0.0074\n",
       "  537 125681649695275628 164.969299610  14.737753920 ...  0.0073 18.0416  0.0096\n",
       "  538 125681649538490810 164.953786380  14.733616480 ...  0.1858      --      --\n",
       "  544 125671649003882392 164.900319850  14.726587330 ...  0.0063 16.5200  0.0043"
      ]
     },
     "execution_count": 46,
     "metadata": {},
     "output_type": "execute_result"
    }
   ],
   "source": [
    "panstarrs_querry_table"
   ]
  },
  {
   "cell_type": "markdown",
   "metadata": {},
   "source": [
    "# Read in the DESI matches"
   ]
  },
  {
   "cell_type": "code",
   "execution_count": 47,
   "metadata": {},
   "outputs": [],
   "source": [
    "desi_cat = Table.read('/Users/mwilde/Dropbox/COS-Gemini/Imaging/DESI/crossmatch_decals_cgmsq_trimmed.fits')"
   ]
  },
  {
   "cell_type": "code",
   "execution_count": 50,
   "metadata": {},
   "outputs": [
    {
     "name": "stderr",
     "output_type": "stream",
     "text": [
      "/anaconda3/lib/python3.6/site-packages/astropy/table/column.py:965: RuntimeWarning: invalid value encountered in greater\n",
      "  return getattr(self.data, op)(other)\n"
     ]
    },
    {
     "data": {
      "text/html": [
       "<i>Table length=413</i>\n",
       "<table id=\"table4713071280\" class=\"table-striped table-bordered table-condensed\">\n",
       "<thead><tr><th>ra_cs</th><th>dec_cs</th><th>ra_decals</th><th>dec_decals</th><th>mag_g</th><th>mag_r</th><th>mag_z</th><th>mag_w1</th><th>mag_w2</th><th>mag_w3</th><th>mag_w4</th><th>dered_mag_g</th><th>dered_mag_r</th><th>dered_mag_z</th><th>dered_mag_w1</th><th>dered_mag_w2</th><th>dered_mag_w3</th><th>dered_mag_w4</th><th>type</th><th>dist_arcsec</th></tr></thead>\n",
       "<thead><tr><th>float64</th><th>float64</th><th>float64</th><th>float64</th><th>float64</th><th>float64</th><th>float64</th><th>float64</th><th>float64</th><th>float64</th><th>float64</th><th>float64</th><th>float64</th><th>float64</th><th>float64</th><th>float64</th><th>float64</th><th>float64</th><th>bytes4</th><th>float64</th></tr></thead>\n",
       "<tr><td>143.871302604675</td><td>2.10502004623413</td><td>143.870885070929</td><td>2.1051104267656697</td><td>24.6122</td><td>23.339000000000002</td><td>22.6102</td><td>22.5812</td><td>nan</td><td>18.5455</td><td>14.9747</td><td>24.4831</td><td>23.2521</td><td>22.5615</td><td>22.5738</td><td>nan</td><td>18.5445</td><td>14.9743</td><td>PSF</td><td>1.5369422039130198</td></tr>\n",
       "<tr><td>143.855996131897</td><td>2.07028007507324</td><td>143.85574813479</td><td>2.07039896564623</td><td>25.8625</td><td>23.677</td><td>21.7373</td><td>20.8935</td><td>21.1883</td><td>18.6238</td><td>16.1402</td><td>25.7286</td><td>23.5868</td><td>21.6869</td><td>20.8858</td><td>21.1836</td><td>18.6228</td><td>16.1398</td><td>PSF</td><td>0.98955654628718</td></tr>\n",
       "<tr><td>143.858871459961</td><td>2.09556007385254</td><td>143.858539348648</td><td>2.0956844568568798</td><td>25.6851</td><td>23.3867</td><td>22.1129</td><td>22.063000000000002</td><td>nan</td><td>nan</td><td>nan</td><td>25.5534</td><td>23.2979</td><td>22.0632</td><td>22.0554</td><td>nan</td><td>nan</td><td>nan</td><td>REX</td><td>1.27595279486804</td></tr>\n",
       "<tr><td>143.848886489868</td><td>2.0627601146698002</td><td>143.848620843855</td><td>2.06288255336767</td><td>24.6619</td><td>23.6039</td><td>22.0399</td><td>20.2599</td><td>20.4737</td><td>18.6678</td><td>14.6915</td><td>24.5267</td><td>23.5128</td><td>21.989</td><td>20.2522</td><td>20.4689</td><td>18.6668</td><td>14.6911</td><td>PSF</td><td>1.05245436419876</td></tr>\n",
       "<tr><td>143.851761817932</td><td>2.08786010742188</td><td>143.851461335554</td><td>2.0880072657577897</td><td>25.3585</td><td>23.5076</td><td>21.3194</td><td>19.2714</td><td>19.8052</td><td>nan</td><td>15.8515</td><td>25.2251</td><td>23.4177</td><td>21.2691</td><td>19.2637</td><td>19.8005</td><td>nan</td><td>15.8511</td><td>REX</td><td>1.20385090795178</td></tr>\n",
       "<tr><td>143.82398128509502</td><td>2.07069993019104</td><td>143.823718338261</td><td>2.0708098636631496</td><td>25.3426</td><td>23.1946</td><td>21.8913</td><td>nan</td><td>nan</td><td>nan</td><td>15.3989</td><td>25.2052</td><td>23.101999999999997</td><td>21.8395</td><td>nan</td><td>nan</td><td>nan</td><td>15.3985</td><td>REX</td><td>1.02543857803317</td></tr>\n",
       "<tr><td>143.811163902283</td><td>2.10125994682312</td><td>143.810869905213</td><td>2.10132525893738</td><td>24.3582</td><td>23.56</td><td>22.6727</td><td>21.7166</td><td>nan</td><td>18.2705</td><td>16.4814</td><td>24.2217</td><td>23.4681</td><td>22.6213</td><td>21.7087</td><td>nan</td><td>18.2694</td><td>16.480999999999998</td><td>EXP</td><td>1.08349681405896</td></tr>\n",
       "<tr><td>143.790693283081</td><td>2.11844992637634</td><td>143.79055302059402</td><td>2.11841214175159</td><td>24.3069</td><td>23.4461</td><td>22.9704</td><td>nan</td><td>nan</td><td>18.6351</td><td>16.4426</td><td>24.1697</td><td>23.3537</td><td>22.9187</td><td>nan</td><td>nan</td><td>18.634</td><td>16.4422</td><td>REX</td><td>0.522612393079936</td></tr>\n",
       "<tr><td>143.786129951477</td><td>2.0355799198150604</td><td>143.786108544021</td><td>2.0356299471549</td><td>25.339000000000002</td><td>23.7266</td><td>22.2417</td><td>21.3571</td><td>21.633000000000003</td><td>nan</td><td>16.0995</td><td>25.1999</td><td>23.6328</td><td>22.1893</td><td>21.3491</td><td>21.6281</td><td>nan</td><td>16.0991</td><td>REX</td><td>0.195875589527132</td></tr>\n",
       "<tr><td>143.800792694092</td><td>2.1004900932312</td><td>143.800588935698</td><td>2.10050928889002</td><td>23.9003</td><td>23.6002</td><td>21.8367</td><td>23.5292</td><td>22.7681</td><td>nan</td><td>nan</td><td>23.7631</td><td>23.5078</td><td>21.785</td><td>23.5213</td><td>22.7633</td><td>nan</td><td>nan</td><td>EXP</td><td>0.736287415036827</td></tr>\n",
       "<tr><td>...</td><td>...</td><td>...</td><td>...</td><td>...</td><td>...</td><td>...</td><td>...</td><td>...</td><td>...</td><td>...</td><td>...</td><td>...</td><td>...</td><td>...</td><td>...</td><td>...</td><td>...</td><td>...</td><td>...</td></tr>\n",
       "<tr><td>164.93225097656202</td><td>14.6898202896118</td><td>164.932401513048</td><td>14.689797543293299</td><td>24.3041</td><td>23.8105</td><td>22.6034</td><td>nan</td><td>nan</td><td>nan</td><td>17.2426</td><td>24.2355</td><td>23.7644</td><td>22.5775</td><td>nan</td><td>nan</td><td>nan</td><td>17.2424</td><td>PSF</td><td>0.530574292245015</td></tr>\n",
       "<tr><td>164.95210647583</td><td>14.6937799453735</td><td>164.952194582517</td><td>14.693796047504302</td><td>23.9303</td><td>23.8097</td><td>22.1892</td><td>22.2258</td><td>21.7185</td><td>20.2315</td><td>15.7695</td><td>23.8617</td><td>23.7635</td><td>22.1633</td><td>22.2219</td><td>21.7161</td><td>20.230999999999998</td><td>15.7693</td><td>REX</td><td>0.312238734072073</td></tr>\n",
       "<tr><td>164.93744373321502</td><td>14.704219818115199</td><td>164.937597297142</td><td>14.704253483759599</td><td>24.6956</td><td>23.5575</td><td>22.3288</td><td>20.2698</td><td>20.73</td><td>20.7334</td><td>nan</td><td>24.6271</td><td>23.5113</td><td>22.303</td><td>20.2659</td><td>20.7275</td><td>20.7329</td><td>nan</td><td>REX</td><td>0.548287077785181</td></tr>\n",
       "<tr><td>164.898734092712</td><td>14.7075796127319</td><td>164.898894885127</td><td>14.707550874453302</td><td>24.2502</td><td>23.5162</td><td>22.0115</td><td>21.0895</td><td>nan</td><td>nan</td><td>15.5453</td><td>24.1818</td><td>23.4701</td><td>21.9858</td><td>21.0855</td><td>nan</td><td>nan</td><td>15.5451</td><td>REX</td><td>0.5693645683186371</td></tr>\n",
       "<tr><td>164.954824447632</td><td>14.7090702056885</td><td>164.95499927576</td><td>14.709082271347802</td><td>23.508000000000003</td><td>23.1428</td><td>22.4505</td><td>22.0544</td><td>21.6896</td><td>nan</td><td>nan</td><td>23.4394</td><td>23.0967</td><td>22.4247</td><td>22.0505</td><td>21.6872</td><td>nan</td><td>nan</td><td>REX</td><td>0.6103025779173671</td></tr>\n",
       "<tr><td>164.956426620483</td><td>14.712770462036099</td><td>164.95658476264998</td><td>14.712793113880698</td><td>24.4396</td><td>23.3967</td><td>21.926</td><td>20.3478</td><td>20.5728</td><td>22.8666</td><td>16.2848</td><td>24.3711</td><td>23.3506</td><td>21.9001</td><td>20.3439</td><td>20.5704</td><td>22.8661</td><td>16.2846</td><td>REX</td><td>0.5566502013957759</td></tr>\n",
       "<tr><td>164.955296516418</td><td>14.7175998687744</td><td>164.955435015378</td><td>14.7176470597877</td><td>25.3262</td><td>23.8073</td><td>21.9054</td><td>19.9932</td><td>20.3292</td><td>18.7707</td><td>17.298</td><td>25.2578</td><td>23.7612</td><td>21.8796</td><td>19.9892</td><td>20.3268</td><td>18.7702</td><td>17.2978</td><td>REX</td><td>0.5112870738167551</td></tr>\n",
       "<tr><td>164.969258308411</td><td>14.7366399765015</td><td>164.969456946129</td><td>14.7366497287685</td><td>24.0439</td><td>23.8091</td><td>23.0045</td><td>22.159000000000002</td><td>nan</td><td>nan</td><td>16.0066</td><td>23.9755</td><td>23.7631</td><td>22.9788</td><td>22.1551</td><td>nan</td><td>nan</td><td>16.0064</td><td>REX</td><td>0.69246346450912</td></tr>\n",
       "<tr><td>164.949474334717</td><td>14.7298898696899</td><td>164.94890215841102</td><td>14.729660116240199</td><td>24.1816</td><td>23.7461</td><td>23.7465</td><td>24.1033</td><td>20.7813</td><td>nan</td><td>14.8574</td><td>24.1131</td><td>23.7</td><td>23.7207</td><td>24.0994</td><td>20.7789</td><td>nan</td><td>14.8572</td><td>REX</td><td>2.15702013631298</td></tr>\n",
       "<tr><td>164.965424537659</td><td>14.725359916687</td><td>164.965583742106</td><td>14.7253578561906</td><td>25.1379</td><td>24.2749</td><td>22.9649</td><td>nan</td><td>22.4979</td><td>nan</td><td>nan</td><td>25.0695</td><td>24.2289</td><td>22.9391</td><td>nan</td><td>22.4955</td><td>nan</td><td>nan</td><td>PSF</td><td>0.55436118444166</td></tr>\n",
       "</table>"
      ],
      "text/plain": [
       "<Table length=413>\n",
       "      ra_cs              dec_cs       ...  type     dist_arcsec    \n",
       "     float64            float64       ... bytes4      float64      \n",
       "------------------ ------------------ ... ------ ------------------\n",
       "  143.871302604675   2.10502004623413 ...    PSF 1.5369422039130198\n",
       "  143.855996131897   2.07028007507324 ...    PSF   0.98955654628718\n",
       "  143.858871459961   2.09556007385254 ...    REX   1.27595279486804\n",
       "  143.848886489868 2.0627601146698002 ...    PSF   1.05245436419876\n",
       "  143.851761817932   2.08786010742188 ...    REX   1.20385090795178\n",
       "143.82398128509502   2.07069993019104 ...    REX   1.02543857803317\n",
       "  143.811163902283   2.10125994682312 ...    EXP   1.08349681405896\n",
       "  143.790693283081   2.11844992637634 ...    REX  0.522612393079936\n",
       "  143.786129951477 2.0355799198150604 ...    REX  0.195875589527132\n",
       "  143.800792694092    2.1004900932312 ...    EXP  0.736287415036827\n",
       "               ...                ... ...    ...                ...\n",
       "164.93225097656202   14.6898202896118 ...    PSF  0.530574292245015\n",
       "   164.95210647583   14.6937799453735 ...    REX  0.312238734072073\n",
       "164.93744373321502 14.704219818115199 ...    REX  0.548287077785181\n",
       "  164.898734092712   14.7075796127319 ...    REX 0.5693645683186371\n",
       "  164.954824447632   14.7090702056885 ...    REX 0.6103025779173671\n",
       "  164.956426620483 14.712770462036099 ...    REX 0.5566502013957759\n",
       "  164.955296516418   14.7175998687744 ...    REX 0.5112870738167551\n",
       "  164.969258308411   14.7366399765015 ...    REX   0.69246346450912\n",
       "  164.949474334717   14.7298898696899 ...    REX   2.15702013631298\n",
       "  164.965424537659    14.725359916687 ...    PSF   0.55436118444166"
      ]
     },
     "execution_count": 50,
     "metadata": {},
     "output_type": "execute_result"
    }
   ],
   "source": [
    "desi_cat[desi_cat['dered_mag_r'] > 23]"
   ]
  },
  {
   "cell_type": "code",
   "execution_count": 53,
   "metadata": {},
   "outputs": [
    {
     "name": "stderr",
     "output_type": "stream",
     "text": [
      "/anaconda3/lib/python3.6/site-packages/astropy/table/column.py:965: RuntimeWarning: invalid value encountered in greater\n",
      "  return getattr(self.data, op)(other)\n"
     ]
    }
   ],
   "source": [
    "ra_desi = desi_cat[desi_cat['dered_mag_r'] > 23]['ra_decals'][0]\n",
    "dec_desi = desi_cat[desi_cat['dered_mag_r'] > 23]['dec_decals'][0]"
   ]
  },
  {
   "cell_type": "code",
   "execution_count": 52,
   "metadata": {},
   "outputs": [
    {
     "data": {
      "text/plain": [
       "3.6"
      ]
     },
     "execution_count": 52,
     "metadata": {},
     "output_type": "execute_result"
    }
   ],
   "source": [
    "panstarrs_querry_table[(panstarrs_querry_table['RAJ2000']]"
   ]
  },
  {
   "cell_type": "code",
   "execution_count": null,
   "metadata": {},
   "outputs": [],
   "source": []
  }
 ],
 "metadata": {
  "kernelspec": {
   "display_name": "Python 3",
   "language": "python",
   "name": "python3"
  },
  "language_info": {
   "codemirror_mode": {
    "name": "ipython",
    "version": 3
   },
   "file_extension": ".py",
   "mimetype": "text/x-python",
   "name": "python",
   "nbconvert_exporter": "python",
   "pygments_lexer": "ipython3",
   "version": "3.6.6"
  }
 },
 "nbformat": 4,
 "nbformat_minor": 2
}
