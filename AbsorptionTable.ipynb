{
 "cells": [
  {
   "cell_type": "markdown",
   "metadata": {},
   "source": [
    "# Make a table of Absorption lines"
   ]
  },
  {
   "cell_type": "code",
   "execution_count": 1,
   "metadata": {},
   "outputs": [],
   "source": [
    "%matplotlib inline\n",
    "%config InlineBackend.figure_format = \"retina\"\n",
    "import pandas as pd\n",
    "import numpy as np\n",
    "import astropy.table\n",
    "from astropy.table import Table, vstack\n",
    "from matplotlib import pyplot as plt\n",
    "\n",
    "from pyigm.igm import igmsightline\n",
    "from cgmsquared import io\n",
    "\n",
    "import yaml\n",
    "\n",
    "from astropy.io import fits\n",
    "from astropy.wcs import WCS\n",
    "import astropy.units as u\n",
    "from astropy.coordinates import SkyCoord"
   ]
  },
  {
   "cell_type": "code",
   "execution_count": 2,
   "metadata": {},
   "outputs": [],
   "source": [
    "data_path = \"/Users/mwilde/Dropbox/IGM_spectra/Completed_QSOs/\"\n",
    "abs_file = 'J1555+3628_werksquad.json'"
   ]
  },
  {
   "cell_type": "code",
   "execution_count": 3,
   "metadata": {},
   "outputs": [
    {
     "data": {
      "text/plain": [
       "'/Users/mwilde/Dropbox/IGM_spectra/Completed_QSOs/J1555+3628_werksquad.json'"
      ]
     },
     "execution_count": 3,
     "metadata": {},
     "output_type": "execute_result"
    }
   ],
   "source": [
    "data_path+abs_file"
   ]
  },
  {
   "cell_type": "markdown",
   "metadata": {},
   "source": [
    "### Read in the json file\n",
    "\n",
    "this instantiates an IGMSightline"
   ]
  },
  {
   "cell_type": "code",
   "execution_count": 4,
   "metadata": {},
   "outputs": [
    {
     "name": "stdout",
     "output_type": "stream",
     "text": [
      "read_sets: Using set file -- \n",
      "  /Users/mwilde/linetools/linetools/lists/sets/llist_v1.2.ascii\n",
      "Loading abundances from Asplund2009\n",
      "Abundances are relative by number on a logarithmic scale with H=12\n",
      "Loading abundances from Asplund2009\n",
      "Abundances are relative by number on a logarithmic scale with H=12\n",
      "AbsComp coordinates do not match.  Best to set them\n",
      "AbsComp coordinates do not match.  Best to set them\n",
      "AbsComp coordinates do not match.  Best to set them\n"
     ]
    }
   ],
   "source": [
    "field = igmsightline.IGMSightline.from_json(data_path+abs_file)"
   ]
  },
  {
   "cell_type": "markdown",
   "metadata": {},
   "source": [
    "### Make the igmsystems\n",
    "\n",
    "Use the components from the json to generate a list of IGMSystems (AbsSystems from AbsComponent objects)\n",
    "\n",
    "\"Build a list of AbsSystems from a list of AbsComponents\"\n",
    "\n",
    "igmsys is actually an IGMsys (subclass of AbsSystems)\n",
    "each AbsSystem has components which each have individual abslines"
   ]
  },
  {
   "cell_type": "code",
   "execution_count": 5,
   "metadata": {},
   "outputs": [],
   "source": [
    "igmsys = field.make_igmsystems()"
   ]
  },
  {
   "cell_type": "markdown",
   "metadata": {},
   "source": [
    "### Accessing the components and elements is not super straight forward"
   ]
  },
  {
   "cell_type": "code",
   "execution_count": 6,
   "metadata": {},
   "outputs": [
    {
     "data": {
      "text/latex": [
       "$1548.204 \\; \\mathrm{\\mathring{A}}$"
      ],
      "text/plain": [
       "<Quantity 1548.204 Angstrom>"
      ]
     },
     "execution_count": 6,
     "metadata": {},
     "output_type": "execute_result"
    }
   ],
   "source": [
    "igmsys[0]._components[0]._abslines[0].wrest"
   ]
  },
  {
   "cell_type": "code",
   "execution_count": 51,
   "metadata": {},
   "outputs": [
    {
     "data": {
      "text/plain": [
       "'CIV 1548'"
      ]
     },
     "execution_count": 51,
     "metadata": {},
     "output_type": "execute_result"
    }
   ],
   "source": [
    "line = igmsys[0]._components[0]._abslines[0]\n",
    "line.name"
   ]
  },
  {
   "cell_type": "code",
   "execution_count": 38,
   "metadata": {},
   "outputs": [],
   "source": [
    "comp = igmsys[0]._components[0]"
   ]
  },
  {
   "cell_type": "markdown",
   "metadata": {},
   "source": [
    "### AbsComponents are made up of AbsLines, AbsSystems have the same wavelength (?)"
   ]
  },
  {
   "cell_type": "code",
   "execution_count": 10,
   "metadata": {},
   "outputs": [
    {
     "data": {
      "text/plain": [
       "(-0.0005575197123075295, -0.00042, -0.0005575197123075295)"
      ]
     },
     "execution_count": 10,
     "metadata": {},
     "output_type": "execute_result"
    }
   ],
   "source": [
    "absline = igmsys[0]._components[0]._abslines[0]\n",
    "igmsys[0].zabs, absline.z, comp.zcomp"
   ]
  },
  {
   "cell_type": "markdown",
   "metadata": {},
   "source": [
    "## Need to output a table specifically for Jess' IDL routine"
   ]
  },
  {
   "cell_type": "code",
   "execution_count": 11,
   "metadata": {},
   "outputs": [
    {
     "name": "stdout",
     "output_type": "stream",
     "text": [
      "number of AbsSystems: 91\n"
     ]
    }
   ],
   "source": [
    "wrest_list = []\n",
    "name_list = []\n",
    "z_abs_list = []\n",
    "z_line_list = []\n",
    "reliability_list = []\n",
    "print(\"number of AbsSystems:\", len(igmsys))\n",
    "for abssys in igmsys:\n",
    "    # print(\"\\t num comps\", len(components_list))\n",
    "    components_list = abssys._components\n",
    "    z_abs = abssys.zabs\n",
    "    for comp in components_list:\n",
    "        # print(\"\\t \\t num abslines\",len(absline_list))\n",
    "        reliability = comp.reliability\n",
    "        absline_list = comp._abslines\n",
    "        for absline in absline_list:\n",
    "            # print(absline.wrest.value, absline.name, absline.z, z_abs)\n",
    "            wrest_list.append(absline.wrest.value)\n",
    "            name_list.append(absline.name)\n",
    "            z_abs_list.append(z_abs)\n",
    "            z_line_list.append(absline.z)\n",
    "            reliability_list.append(reliability)\n"
   ]
  },
  {
   "cell_type": "code",
   "execution_count": 13,
   "metadata": {},
   "outputs": [],
   "source": [
    "# Make a table\n",
    "absline_table = Table(data=[wrest_list, name_list, z_abs_list, z_line_list, reliability_list], \n",
    "      names=[\"wrest\", \"name\", \"z_abssys\", \"z_absline\", \"reliability_list\"])"
   ]
  },
  {
   "cell_type": "code",
   "execution_count": 49,
   "metadata": {},
   "outputs": [
    {
     "data": {
      "text/html": [
       "<i>Table length=5</i>\n",
       "<table id=\"table120664355784\" class=\"table-striped table-bordered table-condensed\">\n",
       "<thead><tr><th>wrest</th><th>name</th><th>z_abssys</th><th>z_absline</th><th>reliability_list</th></tr></thead>\n",
       "<thead><tr><th>float64</th><th>str10</th><th>float64</th><th>float64</th><th>str1</th></tr></thead>\n",
       "<tr><td>1548.204</td><td>CIV 1548</td><td>-0.0005575197123075295</td><td>-0.00042</td><td>a</td></tr>\n",
       "<tr><td>1550.781</td><td>CIV 1550</td><td>-0.0005575197123075295</td><td>-0.00042</td><td>a</td></tr>\n",
       "<tr><td>1393.7602</td><td>SiIV 1393</td><td>-0.0005575197123075295</td><td>-0.00043486369472197473</td><td>a</td></tr>\n",
       "<tr><td>1402.7729</td><td>SiIV 1402</td><td>-0.0005575197123075295</td><td>-0.00043486369472197473</td><td>a</td></tr>\n",
       "<tr><td>1548.204</td><td>CIV 1548</td><td>-0.0005575197123075295</td><td>-0.00024</td><td>a</td></tr>\n",
       "</table>"
      ],
      "text/plain": [
       "<Table length=5>\n",
       "  wrest      name   ...        z_absline        reliability_list\n",
       " float64    str10   ...         float64               str1      \n",
       "--------- --------- ... ----------------------- ----------------\n",
       " 1548.204  CIV 1548 ...                -0.00042                a\n",
       " 1550.781  CIV 1550 ...                -0.00042                a\n",
       "1393.7602 SiIV 1393 ... -0.00043486369472197473                a\n",
       "1402.7729 SiIV 1402 ... -0.00043486369472197473                a\n",
       " 1548.204  CIV 1548 ...                -0.00024                a"
      ]
     },
     "execution_count": 49,
     "metadata": {},
     "output_type": "execute_result"
    }
   ],
   "source": [
    "absline_table[:5]"
   ]
  },
  {
   "cell_type": "code",
   "execution_count": 44,
   "metadata": {},
   "outputs": [],
   "source": [
    "absline_table.write('absorber_info_for_jess.lst', format='ascii')"
   ]
  },
  {
   "cell_type": "markdown",
   "metadata": {},
   "source": [
    "# The Following is to get a rough estimate of the Column density to make a quick plot. \n",
    "\n",
    "Since these are raw werksquad files, we need to artificially set the error and the flag to get a column density\n",
    "\n",
    "This part is from a suggestion from X."
   ]
  },
  {
   "cell_type": "code",
   "execution_count": 56,
   "metadata": {},
   "outputs": [],
   "source": [
    "ion_species = []\n",
    "for a in igmsys:\n",
    "    for c in a._components:\n",
    "        for absline in c._abslines:\n",
    "            absline.attrib['flag_N'] = 1\n",
    "            absline.attrib['sig_N'] = np.array([1e13,1e13])/u.cm**2\n",
    "        c.synthesize_colm(overwrite=True)\n",
    "    a.update_component_colm(overwrite=True)\n",
    "    \n",
    "    # Fills the ionN Table from the list of components\n",
    "    a.fill_ionN()\n",
    "    ion_species.append(a._ionN)\n",
    "    "
   ]
  },
  {
   "cell_type": "markdown",
   "metadata": {},
   "source": [
    "### Make a table of all the absorption systems"
   ]
  },
  {
   "cell_type": "code",
   "execution_count": 59,
   "metadata": {},
   "outputs": [
    {
     "data": {
      "text/html": [
       "<i>Table length=152</i>\n",
       "<table id=\"table120660425584\" class=\"table-striped table-bordered table-condensed\">\n",
       "<thead><tr><th>RA</th><th>DEC</th><th>comp_name</th><th>Z</th><th>ion</th><th>Ej</th><th>vmin</th><th>vmax</th><th>ion_name</th><th>flag_N</th><th>logN</th><th>sig_logN [2]</th><th>b</th><th>sig_b</th><th>vel</th><th>sig_vel</th><th>comment</th><th>reliability</th><th>z_sys</th></tr></thead>\n",
       "<thead><tr><th>deg</th><th>deg</th><th></th><th></th><th></th><th>1 / cm</th><th>km / s</th><th>km / s</th><th></th><th></th><th></th><th></th><th>km / s</th><th>km / s</th><th>km / s</th><th>km / s</th><th></th><th></th><th></th></tr></thead>\n",
       "<thead><tr><th>float64</th><th>float64</th><th>str15</th><th>int64</th><th>int64</th><th>float64</th><th>float64</th><th>float64</th><th>str5</th><th>int64</th><th>float64</th><th>float64</th><th>float64</th><th>float64</th><th>float64</th><th>float64</th><th>str10</th><th>str1</th><th>float64</th></tr></thead>\n",
       "<tr><td>238.76833</td><td>36.48001</td><td>z-0.00056_CIV</td><td>6</td><td>4</td><td>0.0</td><td>-73.97247607447584</td><td>73.97247607455371</td><td>CIV</td><td>1</td><td>13.9</td><td>0.0386606644156722 .. 0.0386606644156722</td><td>0.0</td><td>0.0</td><td>0.0</td><td>0.0</td><td></td><td>a</td><td>-0.0005575197123075295</td></tr>\n",
       "<tr><td>238.76833</td><td>36.48001</td><td>z-0.00053_SiIV</td><td>14</td><td>4</td><td>0.0</td><td>-60.82181366133387</td><td>60.82181366130564</td><td>SiIV</td><td>1</td><td>13.12684879599214</td><td>0.22930869221109298 .. 0.22930869221109298</td><td>0.0</td><td>0.0</td><td>0.0</td><td>0.0</td><td></td><td>a</td><td>-0.0005575197123075295</td></tr>\n",
       "<tr><td>238.76833</td><td>36.48001</td><td>z-0.00029_CIV</td><td>6</td><td>4</td><td>0.0</td><td>-136.4381225374798</td><td>136.4381225375255</td><td>CIV</td><td>1</td><td>14.5</td><td>0.00971111983788723 .. 0.00971111983788723</td><td>0.0</td><td>0.0</td><td>0.0</td><td>0.0</td><td></td><td>a</td><td>-0.0005575197123075295</td></tr>\n",
       "<tr><td>238.76833</td><td>36.48001</td><td>z-0.00029_AlII</td><td>13</td><td>2</td><td>0.0</td><td>-88.76697128943584</td><td>88.76697128885249</td><td>AlII</td><td>1</td><td>13.915186712087836</td><td>0.052795584122677534 .. 0.052795584122677534</td><td>0.0</td><td>0.0</td><td>0.0</td><td>0.0</td><td></td><td>a</td><td>-0.0005575197123075295</td></tr>\n",
       "<tr><td>238.76833</td><td>36.48001</td><td>z-0.00023_CII</td><td>6</td><td>2</td><td>0.0</td><td>-121.64362732256411</td><td>121.64362732251409</td><td>CII</td><td>1</td><td>15.062052035971078</td><td>0.0037647164816175535 .. 0.0037647164816175535</td><td>0.0</td><td>0.0</td><td>0.0</td><td>0.0</td><td></td><td>a</td><td>-0.0005575197123075295</td></tr>\n",
       "<tr><td>238.76833</td><td>36.48001</td><td>z-0.00023_SiII</td><td>14</td><td>2</td><td>0.0</td><td>-167.67094576892848</td><td>167.67094576895997</td><td>SiII</td><td>1</td><td>14.95</td><td>0.002179211134009477 .. 0.002179211134009477</td><td>0.0</td><td>0.0</td><td>0.0</td><td>0.0</td><td></td><td>a</td><td>-0.0005575197123075295</td></tr>\n",
       "<tr><td>238.76833</td><td>36.48001</td><td>z-0.00022_FeII</td><td>26</td><td>2</td><td>0.0</td><td>-141.3696209424226</td><td>141.36962094243484</td><td>FeII</td><td>1</td><td>15.0</td><td>0.0017729997979489165 .. 0.0017729997979489165</td><td>0.0</td><td>0.0</td><td>0.0</td><td>0.0</td><td></td><td>a</td><td>-0.0005575197123075295</td></tr>\n",
       "<tr><td>238.76833</td><td>36.48001</td><td>z-0.00022_SiIII</td><td>14</td><td>3</td><td>0.0</td><td>-162.739447364004</td><td>162.73944736394836</td><td>SiIII</td><td>1</td><td>14.00309128783129</td><td>0.04312141698360396 .. 0.04312141698360396</td><td>0.0</td><td>0.0</td><td>0.0</td><td>0.0</td><td></td><td>a</td><td>-0.0005575197123075295</td></tr>\n",
       "<tr><td>238.76833</td><td>36.48001</td><td>z-0.00016_NiII</td><td>28</td><td>2</td><td>0.0</td><td>-124.9312929258346</td><td>124.93129292585296</td><td>NiII</td><td>1</td><td>13.830159412156343</td><td>0.02030602418686122 .. 0.02030602418686122</td><td>0.0</td><td>0.0</td><td>0.0</td><td>0.0</td><td></td><td>a</td><td>-0.0005575197123075295</td></tr>\n",
       "<tr><td>...</td><td>...</td><td>...</td><td>...</td><td>...</td><td>...</td><td>...</td><td>...</td><td>...</td><td>...</td><td>...</td><td>...</td><td>...</td><td>...</td><td>...</td><td>...</td><td>...</td><td>...</td><td>...</td></tr>\n",
       "<tr><td>238.76833</td><td>36.48001</td><td>z0.60236_ClV</td><td>17</td><td>5</td><td>0.0</td><td>-62.56838601294239</td><td>62.56838601303115</td><td>ClV</td><td>1</td><td>12.83</td><td>0.6423686111182654 .. 0.6423686111182654</td><td>0.0</td><td>0.0</td><td>0.0</td><td>0.0</td><td></td><td>b</td><td>0.6022781134663002</td></tr>\n",
       "<tr><td>238.76833</td><td>36.48001</td><td>z0.60240_NIV</td><td>7</td><td>4</td><td>0.0</td><td>-36.678019386918855</td><td>36.678019386952734</td><td>NIV</td><td>1</td><td>13.9</td><td>0.05467443594699853 .. 0.05467443594699853</td><td>0.0</td><td>0.0</td><td>0.0</td><td>0.0</td><td></td><td>b</td><td>0.6022781134663002</td></tr>\n",
       "<tr><td>238.76833</td><td>36.48001</td><td>z0.60268_NIII</td><td>7</td><td>3</td><td>0.0</td><td>-39.914315215222125</td><td>39.914315215249744</td><td>NIII</td><td>1</td><td>13.8</td><td>0.04867089286973619 .. 0.04867089286973619</td><td>0.0</td><td>0.0</td><td>0.0</td><td>0.0</td><td></td><td>b</td><td>0.6022781134663002</td></tr>\n",
       "<tr><td>238.76833</td><td>36.48001</td><td>z0.60268_OVI</td><td>8</td><td>6</td><td>0.0</td><td>-100.32517067606946</td><td>100.3251706760165</td><td>OVI</td><td>1</td><td>14.444301451936564</td><td>0.011039969193877617 .. 0.011039969193877617</td><td>0.0</td><td>0.0</td><td>0.0</td><td>0.0</td><td></td><td>a</td><td>0.6022781134663002</td></tr>\n",
       "<tr><td>238.76833</td><td>36.48001</td><td>z0.60275_NI</td><td>7</td><td>1</td><td>0.0</td><td>-62.56838601302492</td><td>62.56838601305088</td><td>NI</td><td>1</td><td>14.5</td><td>0.007929096144614338 .. 0.007929096144614338</td><td>0.0</td><td>0.0</td><td>0.0</td><td>0.0</td><td></td><td>b</td><td>0.6022781134663002</td></tr>\n",
       "<tr><td>238.76833</td><td>36.48001</td><td>z0.60277_HI</td><td>1</td><td>1</td><td>0.0</td><td>-42.07184576740383</td><td>42.071845767358695</td><td>HI</td><td>1</td><td>15.130957792864205</td><td>0.0009273333855963835 .. 0.0009273333855963835</td><td>0.0</td><td>0.0</td><td>0.0</td><td>0.0</td><td></td><td>a</td><td>0.6022781134663002</td></tr>\n",
       "<tr><td>238.76833</td><td>36.48001</td><td>z0.60277_CIII</td><td>6</td><td>3</td><td>0.0</td><td>-56.09579435652063</td><td>56.09579435648354</td><td>CIII</td><td>1</td><td>13.749625448852406</td><td>0.07729632789539886 .. 0.07729632789539886</td><td>0.0</td><td>0.0</td><td>0.0</td><td>0.0</td><td></td><td>a</td><td>0.6022781134663002</td></tr>\n",
       "<tr><td>238.76833</td><td>36.48001</td><td>z0.60283_OIV</td><td>8</td><td>4</td><td>0.0</td><td>-71.19850822163191</td><td>71.19850822179954</td><td>OIV</td><td>1</td><td>14.8</td><td>0.00688310367891889 .. 0.00688310367891889</td><td>0.0</td><td>0.0</td><td>0.0</td><td>0.0</td><td></td><td>b</td><td>0.6022781134663002</td></tr>\n",
       "<tr><td>238.76833</td><td>36.48001</td><td>z0.60294_ClV</td><td>17</td><td>5</td><td>0.0</td><td>-59.33209018481583</td><td>59.33209018472759</td><td>ClV</td><td>1</td><td>12.85</td><td>0.613457261110831 .. 0.613457261110831</td><td>0.0</td><td>0.0</td><td>0.0</td><td>0.0</td><td></td><td>b</td><td>0.6029416113418362</td></tr>\n",
       "<tr><td>238.76833</td><td>36.48001</td><td>z0.62918_HI</td><td>1</td><td>1</td><td>0.0</td><td>-52.85949852827824</td><td>52.85949852827224</td><td>HI</td><td>1</td><td>14.65</td><td>0.003437473175440715 .. 0.003437473175440715</td><td>0.0</td><td>0.0</td><td>0.0</td><td>0.0</td><td></td><td>a</td><td>0.6291793348876236</td></tr>\n",
       "</table>"
      ],
      "text/plain": [
       "<Table length=152>\n",
       "    RA      DEC       comp_name    ... reliability         z_sys         \n",
       "   deg      deg                    ...                                   \n",
       " float64  float64       str15      ...     str1           float64        \n",
       "--------- -------- --------------- ... ----------- ----------------------\n",
       "238.76833 36.48001   z-0.00056_CIV ...           a -0.0005575197123075295\n",
       "238.76833 36.48001  z-0.00053_SiIV ...           a -0.0005575197123075295\n",
       "238.76833 36.48001   z-0.00029_CIV ...           a -0.0005575197123075295\n",
       "238.76833 36.48001  z-0.00029_AlII ...           a -0.0005575197123075295\n",
       "238.76833 36.48001   z-0.00023_CII ...           a -0.0005575197123075295\n",
       "238.76833 36.48001  z-0.00023_SiII ...           a -0.0005575197123075295\n",
       "238.76833 36.48001  z-0.00022_FeII ...           a -0.0005575197123075295\n",
       "238.76833 36.48001 z-0.00022_SiIII ...           a -0.0005575197123075295\n",
       "238.76833 36.48001  z-0.00016_NiII ...           a -0.0005575197123075295\n",
       "      ...      ...             ... ...         ...                    ...\n",
       "238.76833 36.48001    z0.60236_ClV ...           b     0.6022781134663002\n",
       "238.76833 36.48001    z0.60240_NIV ...           b     0.6022781134663002\n",
       "238.76833 36.48001   z0.60268_NIII ...           b     0.6022781134663002\n",
       "238.76833 36.48001    z0.60268_OVI ...           a     0.6022781134663002\n",
       "238.76833 36.48001     z0.60275_NI ...           b     0.6022781134663002\n",
       "238.76833 36.48001     z0.60277_HI ...           a     0.6022781134663002\n",
       "238.76833 36.48001   z0.60277_CIII ...           a     0.6022781134663002\n",
       "238.76833 36.48001    z0.60283_OIV ...           b     0.6022781134663002\n",
       "238.76833 36.48001    z0.60294_ClV ...           b     0.6029416113418362\n",
       "238.76833 36.48001     z0.62918_HI ...           a     0.6291793348876236"
      ]
     },
     "execution_count": 59,
     "metadata": {},
     "output_type": "execute_result"
    }
   ],
   "source": [
    "abssysTable = vstack(ion_species)\n",
    "abssysTable"
   ]
  },
  {
   "cell_type": "code",
   "execution_count": 61,
   "metadata": {},
   "outputs": [
    {
     "data": {
      "text/html": [
       "<i>Table length=152</i>\n",
       "<table id=\"table120660493648\" class=\"table-striped table-bordered table-condensed\">\n",
       "<thead><tr><th>RA</th><th>DEC</th><th>comp_name</th><th>Z</th><th>ion</th><th>Ej</th><th>vmin</th><th>vmax</th><th>ion_name</th><th>flag_N</th><th>logN</th><th>sig_logN [2]</th><th>b</th><th>sig_b</th><th>vel</th><th>sig_vel</th><th>comment</th><th>reliability</th><th>z_sys</th></tr></thead>\n",
       "<thead><tr><th>deg</th><th>deg</th><th></th><th></th><th></th><th>1 / cm</th><th>km / s</th><th>km / s</th><th></th><th></th><th></th><th></th><th>km / s</th><th>km / s</th><th>km / s</th><th>km / s</th><th></th><th></th><th></th></tr></thead>\n",
       "<thead><tr><th>float64</th><th>float64</th><th>str15</th><th>int64</th><th>int64</th><th>float64</th><th>float64</th><th>float64</th><th>str5</th><th>int64</th><th>float64</th><th>float64</th><th>float64</th><th>float64</th><th>float64</th><th>float64</th><th>str10</th><th>str1</th><th>float64</th></tr></thead>\n",
       "<tr><td>238.76833</td><td>36.48001</td><td>z-0.00056_CIV</td><td>6</td><td>4</td><td>0.0</td><td>-73.97247607447584</td><td>73.97247607455371</td><td>CIV</td><td>1</td><td>13.9</td><td>0.0386606644156722 .. 0.0386606644156722</td><td>0.0</td><td>0.0</td><td>0.0</td><td>0.0</td><td></td><td>a</td><td>-0.0005575197123075295</td></tr>\n",
       "<tr><td>238.76833</td><td>36.48001</td><td>z-0.00053_SiIV</td><td>14</td><td>4</td><td>0.0</td><td>-60.82181366133387</td><td>60.82181366130564</td><td>SiIV</td><td>1</td><td>13.12684879599214</td><td>0.22930869221109298 .. 0.22930869221109298</td><td>0.0</td><td>0.0</td><td>0.0</td><td>0.0</td><td></td><td>a</td><td>-0.0005575197123075295</td></tr>\n",
       "<tr><td>238.76833</td><td>36.48001</td><td>z-0.00029_CIV</td><td>6</td><td>4</td><td>0.0</td><td>-136.4381225374798</td><td>136.4381225375255</td><td>CIV</td><td>1</td><td>14.5</td><td>0.00971111983788723 .. 0.00971111983788723</td><td>0.0</td><td>0.0</td><td>0.0</td><td>0.0</td><td></td><td>a</td><td>-0.0005575197123075295</td></tr>\n",
       "<tr><td>238.76833</td><td>36.48001</td><td>z-0.00029_AlII</td><td>13</td><td>2</td><td>0.0</td><td>-88.76697128943584</td><td>88.76697128885249</td><td>AlII</td><td>1</td><td>13.915186712087836</td><td>0.052795584122677534 .. 0.052795584122677534</td><td>0.0</td><td>0.0</td><td>0.0</td><td>0.0</td><td></td><td>a</td><td>-0.0005575197123075295</td></tr>\n",
       "<tr><td>238.76833</td><td>36.48001</td><td>z-0.00023_CII</td><td>6</td><td>2</td><td>0.0</td><td>-121.64362732256411</td><td>121.64362732251409</td><td>CII</td><td>1</td><td>15.062052035971078</td><td>0.0037647164816175535 .. 0.0037647164816175535</td><td>0.0</td><td>0.0</td><td>0.0</td><td>0.0</td><td></td><td>a</td><td>-0.0005575197123075295</td></tr>\n",
       "<tr><td>238.76833</td><td>36.48001</td><td>z-0.00023_SiII</td><td>14</td><td>2</td><td>0.0</td><td>-167.67094576892848</td><td>167.67094576895997</td><td>SiII</td><td>1</td><td>14.95</td><td>0.002179211134009477 .. 0.002179211134009477</td><td>0.0</td><td>0.0</td><td>0.0</td><td>0.0</td><td></td><td>a</td><td>-0.0005575197123075295</td></tr>\n",
       "<tr><td>238.76833</td><td>36.48001</td><td>z-0.00022_FeII</td><td>26</td><td>2</td><td>0.0</td><td>-141.3696209424226</td><td>141.36962094243484</td><td>FeII</td><td>1</td><td>15.0</td><td>0.0017729997979489165 .. 0.0017729997979489165</td><td>0.0</td><td>0.0</td><td>0.0</td><td>0.0</td><td></td><td>a</td><td>-0.0005575197123075295</td></tr>\n",
       "<tr><td>238.76833</td><td>36.48001</td><td>z-0.00022_SiIII</td><td>14</td><td>3</td><td>0.0</td><td>-162.739447364004</td><td>162.73944736394836</td><td>SiIII</td><td>1</td><td>14.00309128783129</td><td>0.04312141698360396 .. 0.04312141698360396</td><td>0.0</td><td>0.0</td><td>0.0</td><td>0.0</td><td></td><td>a</td><td>-0.0005575197123075295</td></tr>\n",
       "<tr><td>238.76833</td><td>36.48001</td><td>z-0.00016_NiII</td><td>28</td><td>2</td><td>0.0</td><td>-124.9312929258346</td><td>124.93129292585296</td><td>NiII</td><td>1</td><td>13.830159412156343</td><td>0.02030602418686122 .. 0.02030602418686122</td><td>0.0</td><td>0.0</td><td>0.0</td><td>0.0</td><td></td><td>a</td><td>-0.0005575197123075295</td></tr>\n",
       "<tr><td>...</td><td>...</td><td>...</td><td>...</td><td>...</td><td>...</td><td>...</td><td>...</td><td>...</td><td>...</td><td>...</td><td>...</td><td>...</td><td>...</td><td>...</td><td>...</td><td>...</td><td>...</td><td>...</td></tr>\n",
       "<tr><td>238.76833</td><td>36.48001</td><td>z0.60236_ClV</td><td>17</td><td>5</td><td>0.0</td><td>-62.56838601294239</td><td>62.56838601303115</td><td>ClV</td><td>1</td><td>12.83</td><td>0.6423686111182654 .. 0.6423686111182654</td><td>0.0</td><td>0.0</td><td>0.0</td><td>0.0</td><td></td><td>b</td><td>0.6022781134663002</td></tr>\n",
       "<tr><td>238.76833</td><td>36.48001</td><td>z0.60240_NIV</td><td>7</td><td>4</td><td>0.0</td><td>-36.678019386918855</td><td>36.678019386952734</td><td>NIV</td><td>1</td><td>13.9</td><td>0.05467443594699853 .. 0.05467443594699853</td><td>0.0</td><td>0.0</td><td>0.0</td><td>0.0</td><td></td><td>b</td><td>0.6022781134663002</td></tr>\n",
       "<tr><td>238.76833</td><td>36.48001</td><td>z0.60268_NIII</td><td>7</td><td>3</td><td>0.0</td><td>-39.914315215222125</td><td>39.914315215249744</td><td>NIII</td><td>1</td><td>13.8</td><td>0.04867089286973619 .. 0.04867089286973619</td><td>0.0</td><td>0.0</td><td>0.0</td><td>0.0</td><td></td><td>b</td><td>0.6022781134663002</td></tr>\n",
       "<tr><td>238.76833</td><td>36.48001</td><td>z0.60268_OVI</td><td>8</td><td>6</td><td>0.0</td><td>-100.32517067606946</td><td>100.3251706760165</td><td>OVI</td><td>1</td><td>14.444301451936564</td><td>0.011039969193877617 .. 0.011039969193877617</td><td>0.0</td><td>0.0</td><td>0.0</td><td>0.0</td><td></td><td>a</td><td>0.6022781134663002</td></tr>\n",
       "<tr><td>238.76833</td><td>36.48001</td><td>z0.60275_NI</td><td>7</td><td>1</td><td>0.0</td><td>-62.56838601302492</td><td>62.56838601305088</td><td>NI</td><td>1</td><td>14.5</td><td>0.007929096144614338 .. 0.007929096144614338</td><td>0.0</td><td>0.0</td><td>0.0</td><td>0.0</td><td></td><td>b</td><td>0.6022781134663002</td></tr>\n",
       "<tr><td>238.76833</td><td>36.48001</td><td>z0.60277_HI</td><td>1</td><td>1</td><td>0.0</td><td>-42.07184576740383</td><td>42.071845767358695</td><td>HI</td><td>1</td><td>15.130957792864205</td><td>0.0009273333855963835 .. 0.0009273333855963835</td><td>0.0</td><td>0.0</td><td>0.0</td><td>0.0</td><td></td><td>a</td><td>0.6022781134663002</td></tr>\n",
       "<tr><td>238.76833</td><td>36.48001</td><td>z0.60277_CIII</td><td>6</td><td>3</td><td>0.0</td><td>-56.09579435652063</td><td>56.09579435648354</td><td>CIII</td><td>1</td><td>13.749625448852406</td><td>0.07729632789539886 .. 0.07729632789539886</td><td>0.0</td><td>0.0</td><td>0.0</td><td>0.0</td><td></td><td>a</td><td>0.6022781134663002</td></tr>\n",
       "<tr><td>238.76833</td><td>36.48001</td><td>z0.60283_OIV</td><td>8</td><td>4</td><td>0.0</td><td>-71.19850822163191</td><td>71.19850822179954</td><td>OIV</td><td>1</td><td>14.8</td><td>0.00688310367891889 .. 0.00688310367891889</td><td>0.0</td><td>0.0</td><td>0.0</td><td>0.0</td><td></td><td>b</td><td>0.6022781134663002</td></tr>\n",
       "<tr><td>238.76833</td><td>36.48001</td><td>z0.60294_ClV</td><td>17</td><td>5</td><td>0.0</td><td>-59.33209018481583</td><td>59.33209018472759</td><td>ClV</td><td>1</td><td>12.85</td><td>0.613457261110831 .. 0.613457261110831</td><td>0.0</td><td>0.0</td><td>0.0</td><td>0.0</td><td></td><td>b</td><td>0.6029416113418362</td></tr>\n",
       "<tr><td>238.76833</td><td>36.48001</td><td>z0.62918_HI</td><td>1</td><td>1</td><td>0.0</td><td>-52.85949852827824</td><td>52.85949852827224</td><td>HI</td><td>1</td><td>14.65</td><td>0.003437473175440715 .. 0.003437473175440715</td><td>0.0</td><td>0.0</td><td>0.0</td><td>0.0</td><td></td><td>a</td><td>0.6291793348876236</td></tr>\n",
       "</table>"
      ],
      "text/plain": [
       "<Table length=152>\n",
       "    RA      DEC       comp_name    ... reliability         z_sys         \n",
       "   deg      deg                    ...                                   \n",
       " float64  float64       str15      ...     str1           float64        \n",
       "--------- -------- --------------- ... ----------- ----------------------\n",
       "238.76833 36.48001   z-0.00056_CIV ...           a -0.0005575197123075295\n",
       "238.76833 36.48001  z-0.00053_SiIV ...           a -0.0005575197123075295\n",
       "238.76833 36.48001   z-0.00029_CIV ...           a -0.0005575197123075295\n",
       "238.76833 36.48001  z-0.00029_AlII ...           a -0.0005575197123075295\n",
       "238.76833 36.48001   z-0.00023_CII ...           a -0.0005575197123075295\n",
       "238.76833 36.48001  z-0.00023_SiII ...           a -0.0005575197123075295\n",
       "238.76833 36.48001  z-0.00022_FeII ...           a -0.0005575197123075295\n",
       "238.76833 36.48001 z-0.00022_SiIII ...           a -0.0005575197123075295\n",
       "238.76833 36.48001  z-0.00016_NiII ...           a -0.0005575197123075295\n",
       "      ...      ...             ... ...         ...                    ...\n",
       "238.76833 36.48001    z0.60236_ClV ...           b     0.6022781134663002\n",
       "238.76833 36.48001    z0.60240_NIV ...           b     0.6022781134663002\n",
       "238.76833 36.48001   z0.60268_NIII ...           b     0.6022781134663002\n",
       "238.76833 36.48001    z0.60268_OVI ...           a     0.6022781134663002\n",
       "238.76833 36.48001     z0.60275_NI ...           b     0.6022781134663002\n",
       "238.76833 36.48001     z0.60277_HI ...           a     0.6022781134663002\n",
       "238.76833 36.48001   z0.60277_CIII ...           a     0.6022781134663002\n",
       "238.76833 36.48001    z0.60283_OIV ...           b     0.6022781134663002\n",
       "238.76833 36.48001    z0.60294_ClV ...           b     0.6029416113418362\n",
       "238.76833 36.48001     z0.62918_HI ...           a     0.6291793348876236"
      ]
     },
     "execution_count": 61,
     "metadata": {},
     "output_type": "execute_result"
    }
   ],
   "source": [
    "group_by_z = abssysTable.group_by('z_sys')\n",
    "group_by_z"
   ]
  },
  {
   "cell_type": "code",
   "execution_count": 62,
   "metadata": {},
   "outputs": [
    {
     "name": "stdout",
     "output_type": "stream",
     "text": [
      "ion_name        logN                z_sys         \n",
      "-------- ------------------ ----------------------\n",
      "     CIV               13.9 -0.0005575197123075295\n",
      "    SiIV  13.12684879599214 -0.0005575197123075295\n",
      "     CIV               14.5 -0.0005575197123075295\n",
      "    AlII 13.915186712087836 -0.0005575197123075295\n",
      "     CII 15.062052035971078 -0.0005575197123075295\n",
      "    SiII              14.95 -0.0005575197123075295\n",
      "    FeII               15.0 -0.0005575197123075295\n",
      "   SiIII  14.00309128783129 -0.0005575197123075295\n",
      "    NiII 13.830159412156343 -0.0005575197123075295\n",
      "    SiIV 13.599368555373001 -0.0005575197123075295\n",
      "     ...                ...                    ...\n",
      "    CIII  13.64244658041559     0.6022781134663002\n",
      "     ClV              12.83     0.6022781134663002\n",
      "     NIV               13.9     0.6022781134663002\n",
      "    NIII               13.8     0.6022781134663002\n",
      "     OVI 14.444301451936564     0.6022781134663002\n",
      "      NI               14.5     0.6022781134663002\n",
      "      HI 15.130957792864205     0.6022781134663002\n",
      "    CIII 13.749625448852406     0.6022781134663002\n",
      "     OIV               14.8     0.6022781134663002\n",
      "     ClV              12.85     0.6029416113418362\n",
      "      HI              14.65     0.6291793348876236\n",
      "Length = 152 rows\n"
     ]
    }
   ],
   "source": [
    "print(abssysTable['ion_name', 'logN', 'z_sys'])"
   ]
  },
  {
   "cell_type": "markdown",
   "metadata": {},
   "source": [
    "# or load it from cgmsquared"
   ]
  },
  {
   "cell_type": "code",
   "execution_count": 63,
   "metadata": {},
   "outputs": [],
   "source": [
    "import cgmsquared"
   ]
  },
  {
   "cell_type": "code",
   "execution_count": 64,
   "metadata": {},
   "outputs": [
    {
     "name": "stdout",
     "output_type": "stream",
     "text": [
      "Loading abundances from Asplund2009\n",
      "Abundances are relative by number on a logarithmic scale with H=12\n",
      "Loading abundances from Asplund2009\n",
      "Abundances are relative by number on a logarithmic scale with H=12\n",
      "AbsComp coordinates do not match.  Best to set them\n",
      "AbsComp coordinates do not match.  Best to set them\n",
      "AbsComp coordinates do not match.  Best to set them\n"
     ]
    },
    {
     "data": {
      "text/html": [
       "<i>Table length=152</i>\n",
       "<table id=\"table120683547224\" class=\"table-striped table-bordered table-condensed\">\n",
       "<thead><tr><th>RA</th><th>DEC</th><th>comp_name</th><th>Z</th><th>ion</th><th>Ej</th><th>vmin</th><th>vmax</th><th>ion_name</th><th>flag_N</th><th>logN</th><th>sig_logN [2]</th><th>b</th><th>sig_b</th><th>vel</th><th>sig_vel</th><th>comment</th><th>reliability</th><th>z_sys</th></tr></thead>\n",
       "<thead><tr><th>deg</th><th>deg</th><th></th><th></th><th></th><th>1 / cm</th><th>km / s</th><th>km / s</th><th></th><th></th><th></th><th></th><th>km / s</th><th>km / s</th><th>km / s</th><th>km / s</th><th></th><th></th><th></th></tr></thead>\n",
       "<thead><tr><th>float64</th><th>float64</th><th>str15</th><th>int64</th><th>int64</th><th>float64</th><th>float64</th><th>float64</th><th>str5</th><th>int64</th><th>float64</th><th>float64</th><th>float64</th><th>float64</th><th>float64</th><th>float64</th><th>str10</th><th>str1</th><th>float64</th></tr></thead>\n",
       "<tr><td>238.76833</td><td>36.48001</td><td>z-0.00056_CIV</td><td>6</td><td>4</td><td>0.0</td><td>-73.97247607447584</td><td>73.97247607455371</td><td>CIV</td><td>1</td><td>13.9</td><td>0.0386606644156722 .. 0.0386606644156722</td><td>0.0</td><td>0.0</td><td>0.0</td><td>0.0</td><td></td><td>a</td><td>-0.0005575197123075295</td></tr>\n",
       "<tr><td>238.76833</td><td>36.48001</td><td>z-0.00053_SiIV</td><td>14</td><td>4</td><td>0.0</td><td>-60.82181366133387</td><td>60.82181366130564</td><td>SiIV</td><td>1</td><td>13.12684879599214</td><td>0.22930869221109298 .. 0.22930869221109298</td><td>0.0</td><td>0.0</td><td>0.0</td><td>0.0</td><td></td><td>a</td><td>-0.0005575197123075295</td></tr>\n",
       "<tr><td>238.76833</td><td>36.48001</td><td>z-0.00029_CIV</td><td>6</td><td>4</td><td>0.0</td><td>-136.4381225374798</td><td>136.4381225375255</td><td>CIV</td><td>1</td><td>14.5</td><td>0.00971111983788723 .. 0.00971111983788723</td><td>0.0</td><td>0.0</td><td>0.0</td><td>0.0</td><td></td><td>a</td><td>-0.0005575197123075295</td></tr>\n",
       "<tr><td>238.76833</td><td>36.48001</td><td>z-0.00029_AlII</td><td>13</td><td>2</td><td>0.0</td><td>-88.76697128943584</td><td>88.76697128885249</td><td>AlII</td><td>1</td><td>13.915186712087836</td><td>0.052795584122677534 .. 0.052795584122677534</td><td>0.0</td><td>0.0</td><td>0.0</td><td>0.0</td><td></td><td>a</td><td>-0.0005575197123075295</td></tr>\n",
       "<tr><td>238.76833</td><td>36.48001</td><td>z-0.00023_CII</td><td>6</td><td>2</td><td>0.0</td><td>-121.64362732256411</td><td>121.64362732251409</td><td>CII</td><td>1</td><td>15.062052035971078</td><td>0.0037647164816175535 .. 0.0037647164816175535</td><td>0.0</td><td>0.0</td><td>0.0</td><td>0.0</td><td></td><td>a</td><td>-0.0005575197123075295</td></tr>\n",
       "<tr><td>238.76833</td><td>36.48001</td><td>z-0.00023_SiII</td><td>14</td><td>2</td><td>0.0</td><td>-167.67094576892848</td><td>167.67094576895997</td><td>SiII</td><td>1</td><td>14.95</td><td>0.002179211134009477 .. 0.002179211134009477</td><td>0.0</td><td>0.0</td><td>0.0</td><td>0.0</td><td></td><td>a</td><td>-0.0005575197123075295</td></tr>\n",
       "<tr><td>238.76833</td><td>36.48001</td><td>z-0.00022_FeII</td><td>26</td><td>2</td><td>0.0</td><td>-141.3696209424226</td><td>141.36962094243484</td><td>FeII</td><td>1</td><td>15.0</td><td>0.0017729997979489165 .. 0.0017729997979489165</td><td>0.0</td><td>0.0</td><td>0.0</td><td>0.0</td><td></td><td>a</td><td>-0.0005575197123075295</td></tr>\n",
       "<tr><td>238.76833</td><td>36.48001</td><td>z-0.00022_SiIII</td><td>14</td><td>3</td><td>0.0</td><td>-162.739447364004</td><td>162.73944736394836</td><td>SiIII</td><td>1</td><td>14.00309128783129</td><td>0.04312141698360396 .. 0.04312141698360396</td><td>0.0</td><td>0.0</td><td>0.0</td><td>0.0</td><td></td><td>a</td><td>-0.0005575197123075295</td></tr>\n",
       "<tr><td>238.76833</td><td>36.48001</td><td>z-0.00016_NiII</td><td>28</td><td>2</td><td>0.0</td><td>-124.9312929258346</td><td>124.93129292585296</td><td>NiII</td><td>1</td><td>13.830159412156343</td><td>0.02030602418686122 .. 0.02030602418686122</td><td>0.0</td><td>0.0</td><td>0.0</td><td>0.0</td><td></td><td>a</td><td>-0.0005575197123075295</td></tr>\n",
       "<tr><td>...</td><td>...</td><td>...</td><td>...</td><td>...</td><td>...</td><td>...</td><td>...</td><td>...</td><td>...</td><td>...</td><td>...</td><td>...</td><td>...</td><td>...</td><td>...</td><td>...</td><td>...</td><td>...</td></tr>\n",
       "<tr><td>238.76833</td><td>36.48001</td><td>z0.60236_ClV</td><td>17</td><td>5</td><td>0.0</td><td>-62.56838601294239</td><td>62.56838601303115</td><td>ClV</td><td>1</td><td>12.83</td><td>0.6423686111182654 .. 0.6423686111182654</td><td>0.0</td><td>0.0</td><td>0.0</td><td>0.0</td><td></td><td>b</td><td>0.6022781134663002</td></tr>\n",
       "<tr><td>238.76833</td><td>36.48001</td><td>z0.60240_NIV</td><td>7</td><td>4</td><td>0.0</td><td>-36.678019386918855</td><td>36.678019386952734</td><td>NIV</td><td>1</td><td>13.9</td><td>0.05467443594699853 .. 0.05467443594699853</td><td>0.0</td><td>0.0</td><td>0.0</td><td>0.0</td><td></td><td>b</td><td>0.6022781134663002</td></tr>\n",
       "<tr><td>238.76833</td><td>36.48001</td><td>z0.60268_NIII</td><td>7</td><td>3</td><td>0.0</td><td>-39.914315215222125</td><td>39.914315215249744</td><td>NIII</td><td>1</td><td>13.8</td><td>0.04867089286973619 .. 0.04867089286973619</td><td>0.0</td><td>0.0</td><td>0.0</td><td>0.0</td><td></td><td>b</td><td>0.6022781134663002</td></tr>\n",
       "<tr><td>238.76833</td><td>36.48001</td><td>z0.60268_OVI</td><td>8</td><td>6</td><td>0.0</td><td>-100.32517067606946</td><td>100.3251706760165</td><td>OVI</td><td>1</td><td>14.444301451936564</td><td>0.011039969193877617 .. 0.011039969193877617</td><td>0.0</td><td>0.0</td><td>0.0</td><td>0.0</td><td></td><td>a</td><td>0.6022781134663002</td></tr>\n",
       "<tr><td>238.76833</td><td>36.48001</td><td>z0.60275_NI</td><td>7</td><td>1</td><td>0.0</td><td>-62.56838601302492</td><td>62.56838601305088</td><td>NI</td><td>1</td><td>14.5</td><td>0.007929096144614338 .. 0.007929096144614338</td><td>0.0</td><td>0.0</td><td>0.0</td><td>0.0</td><td></td><td>b</td><td>0.6022781134663002</td></tr>\n",
       "<tr><td>238.76833</td><td>36.48001</td><td>z0.60277_HI</td><td>1</td><td>1</td><td>0.0</td><td>-42.07184576740383</td><td>42.071845767358695</td><td>HI</td><td>1</td><td>15.130957792864205</td><td>0.0009273333855963835 .. 0.0009273333855963835</td><td>0.0</td><td>0.0</td><td>0.0</td><td>0.0</td><td></td><td>a</td><td>0.6022781134663002</td></tr>\n",
       "<tr><td>238.76833</td><td>36.48001</td><td>z0.60277_CIII</td><td>6</td><td>3</td><td>0.0</td><td>-56.09579435652063</td><td>56.09579435648354</td><td>CIII</td><td>1</td><td>13.749625448852406</td><td>0.07729632789539886 .. 0.07729632789539886</td><td>0.0</td><td>0.0</td><td>0.0</td><td>0.0</td><td></td><td>a</td><td>0.6022781134663002</td></tr>\n",
       "<tr><td>238.76833</td><td>36.48001</td><td>z0.60283_OIV</td><td>8</td><td>4</td><td>0.0</td><td>-71.19850822163191</td><td>71.19850822179954</td><td>OIV</td><td>1</td><td>14.8</td><td>0.00688310367891889 .. 0.00688310367891889</td><td>0.0</td><td>0.0</td><td>0.0</td><td>0.0</td><td></td><td>b</td><td>0.6022781134663002</td></tr>\n",
       "<tr><td>238.76833</td><td>36.48001</td><td>z0.60294_ClV</td><td>17</td><td>5</td><td>0.0</td><td>-59.33209018481583</td><td>59.33209018472759</td><td>ClV</td><td>1</td><td>12.85</td><td>0.613457261110831 .. 0.613457261110831</td><td>0.0</td><td>0.0</td><td>0.0</td><td>0.0</td><td></td><td>b</td><td>0.6029416113418362</td></tr>\n",
       "<tr><td>238.76833</td><td>36.48001</td><td>z0.62918_HI</td><td>1</td><td>1</td><td>0.0</td><td>-52.85949852827824</td><td>52.85949852827224</td><td>HI</td><td>1</td><td>14.65</td><td>0.003437473175440715 .. 0.003437473175440715</td><td>0.0</td><td>0.0</td><td>0.0</td><td>0.0</td><td></td><td>a</td><td>0.6291793348876236</td></tr>\n",
       "</table>"
      ],
      "text/plain": [
       "<Table length=152>\n",
       "    RA      DEC       comp_name    ... reliability         z_sys         \n",
       "   deg      deg                    ...                                   \n",
       " float64  float64       str15      ...     str1           float64        \n",
       "--------- -------- --------------- ... ----------- ----------------------\n",
       "238.76833 36.48001   z-0.00056_CIV ...           a -0.0005575197123075295\n",
       "238.76833 36.48001  z-0.00053_SiIV ...           a -0.0005575197123075295\n",
       "238.76833 36.48001   z-0.00029_CIV ...           a -0.0005575197123075295\n",
       "238.76833 36.48001  z-0.00029_AlII ...           a -0.0005575197123075295\n",
       "238.76833 36.48001   z-0.00023_CII ...           a -0.0005575197123075295\n",
       "238.76833 36.48001  z-0.00023_SiII ...           a -0.0005575197123075295\n",
       "238.76833 36.48001  z-0.00022_FeII ...           a -0.0005575197123075295\n",
       "238.76833 36.48001 z-0.00022_SiIII ...           a -0.0005575197123075295\n",
       "238.76833 36.48001  z-0.00016_NiII ...           a -0.0005575197123075295\n",
       "      ...      ...             ... ...         ...                    ...\n",
       "238.76833 36.48001    z0.60236_ClV ...           b     0.6022781134663002\n",
       "238.76833 36.48001    z0.60240_NIV ...           b     0.6022781134663002\n",
       "238.76833 36.48001   z0.60268_NIII ...           b     0.6022781134663002\n",
       "238.76833 36.48001    z0.60268_OVI ...           a     0.6022781134663002\n",
       "238.76833 36.48001     z0.60275_NI ...           b     0.6022781134663002\n",
       "238.76833 36.48001     z0.60277_HI ...           a     0.6022781134663002\n",
       "238.76833 36.48001   z0.60277_CIII ...           a     0.6022781134663002\n",
       "238.76833 36.48001    z0.60283_OIV ...           b     0.6022781134663002\n",
       "238.76833 36.48001    z0.60294_ClV ...           b     0.6029416113418362\n",
       "238.76833 36.48001     z0.62918_HI ...           a     0.6291793348876236"
      ]
     },
     "execution_count": 64,
     "metadata": {},
     "output_type": "execute_result"
    }
   ],
   "source": [
    "cgmsquared.utils.make_abssys_table(data_path+abs_file)"
   ]
  },
  {
   "cell_type": "code",
   "execution_count": null,
   "metadata": {},
   "outputs": [],
   "source": []
  }
 ],
 "metadata": {
  "kernelspec": {
   "display_name": "Python 3",
   "language": "python",
   "name": "python3"
  },
  "language_info": {
   "codemirror_mode": {
    "name": "ipython",
    "version": 3
   },
   "file_extension": ".py",
   "mimetype": "text/x-python",
   "name": "python",
   "nbconvert_exporter": "python",
   "pygments_lexer": "ipython3",
   "version": "3.6.6"
  }
 },
 "nbformat": 4,
 "nbformat_minor": 2
}
